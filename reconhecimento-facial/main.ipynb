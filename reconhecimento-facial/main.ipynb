{
 "cells": [
  {
   "cell_type": "code",
   "execution_count": null,
   "metadata": {},
   "outputs": [],
   "source": [
    "# Installation of the retina-face package.\n",
    "!pip install retina-face"
   ]
  },
  {
   "cell_type": "code",
   "execution_count": null,
   "metadata": {},
   "outputs": [],
   "source": [
    "# To mount your Google Drive account to your Google Colab notebook.\n",
    "from google.colab import drive\n",
    "drive.mount('/content/drive')"
   ]
  },
  {
   "cell_type": "code",
   "execution_count": null,
   "metadata": {},
   "outputs": [],
   "source": [
    "folder_path = \"/content/drive/MyDrive/PF10/Image/\" # The image folder location.\n",
    "image_name = \"T1.jpg\" # Image name."
   ]
  },
  {
   "cell_type": "code",
   "execution_count": null,
   "metadata": {},
   "outputs": [],
   "source": [
    "import cv2\n",
    "import matplotlib.pyplot as plt\n",
    "\n",
    "from retinaface import RetinaFace\n",
    "\n",
    "image_path = folder_path+image_name # Set the image path.\n",
    "base_image = cv2.imread(image_path) # Read the image.\n",
    "\n",
    "# To implement face detection and alignment with RetinaFace.\n",
    "face_detection = RetinaFace.extract_faces(img_path = image_path, align = False)\n",
    "face_alignment = RetinaFace.extract_faces(img_path = image_path, align = True)\n",
    "\n",
    "# To show image boxes for your images.\n",
    "fig, axes = plt.subplots(1, 3, figsize = (6, 6))\n",
    "fig.tight_layout()\n",
    "axes = axes.ravel()\n",
    "\n",
    "# To show your original image.\n",
    "axes[0].imshow(base_image[:, :, ::-1])\n",
    "axes[0].text(0.5, -0.23, \"Original Image\", size=10, ha=\"center\", transform=axes[0].transAxes)\n",
    "\n",
    "# To show your face detection.\n",
    "for face_detected in face_detection:\n",
    "    axes[1].imshow(face_detected)\n",
    "    axes[1].text(0.5, -0.23, \"Face Detection\", size=10, ha=\"center\", transform=axes[1].transAxes)\n",
    "\n",
    "# To show your face alignmentn.\n",
    "for face_aligned in face_alignment:\n",
    "    axes[2].imshow(face_aligned)\n",
    "    axes[2].text(0.5, -0.23, \"Face Alignment\", size=10, ha=\"center\", transform=axes[2].transAxes)\n",
    "plt.show()\n",
    "\n",
    "# To save the images for face detection and alignment in your Google Drive.\n",
    "cv2.imwrite(folder_path+\"Face_Detection.jpg\", face_detected[:, :, ::-1])\n",
    "cv2.imwrite(folder_path+\"Face_Alignment.jpg\", face_aligned[:, :, ::-1])\n",
    "print(\"Successfully saved the images\")\n",
    "\n",
    "# Code Reference: https://pypi.org/project/retina-face/"
   ]
  }
 ],
 "metadata": {
  "language_info": {
   "name": "python"
  }
 },
 "nbformat": 4,
 "nbformat_minor": 2
}
