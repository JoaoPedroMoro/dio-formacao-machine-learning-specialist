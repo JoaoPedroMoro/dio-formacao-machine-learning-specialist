{
 "cells": [
  {
   "cell_type": "code",
   "execution_count": 1,
   "metadata": {},
   "outputs": [
    {
     "name": "stdout",
     "output_type": "stream",
     "text": [
      "Collecting gTTS\n",
      "  Obtaining dependency information for gTTS from https://files.pythonhosted.org/packages/f5/f9/7f0e837880282ffad7598ae4b80b29c2cdc5f5e75a58602c66518d245afb/gTTS-2.5.3-py3-none-any.whl.metadata\n",
      "  Downloading gTTS-2.5.3-py3-none-any.whl.metadata (4.1 kB)\n",
      "Requirement already satisfied: requests<3,>=2.27 in c:\\users\\jpgar\\anaconda3\\lib\\site-packages (from gTTS) (2.32.3)\n",
      "Requirement already satisfied: click<8.2,>=7.1 in c:\\users\\jpgar\\anaconda3\\lib\\site-packages (from gTTS) (8.0.4)\n",
      "Requirement already satisfied: colorama in c:\\users\\jpgar\\appdata\\roaming\\python\\python311\\site-packages (from click<8.2,>=7.1->gTTS) (0.4.6)\n",
      "Requirement already satisfied: charset-normalizer<4,>=2 in c:\\users\\jpgar\\anaconda3\\lib\\site-packages (from requests<3,>=2.27->gTTS) (2.0.4)\n",
      "Requirement already satisfied: idna<4,>=2.5 in c:\\users\\jpgar\\anaconda3\\lib\\site-packages (from requests<3,>=2.27->gTTS) (3.4)\n",
      "Requirement already satisfied: urllib3<3,>=1.21.1 in c:\\users\\jpgar\\anaconda3\\lib\\site-packages (from requests<3,>=2.27->gTTS) (1.26.16)\n",
      "Requirement already satisfied: certifi>=2017.4.17 in c:\\users\\jpgar\\anaconda3\\lib\\site-packages (from requests<3,>=2.27->gTTS) (2024.7.4)\n",
      "Downloading gTTS-2.5.3-py3-none-any.whl (29 kB)\n",
      "Installing collected packages: gTTS\n",
      "Successfully installed gTTS-2.5.3\n"
     ]
    }
   ],
   "source": [
    "!pip install gTTS"
   ]
  },
  {
   "cell_type": "code",
   "execution_count": 4,
   "metadata": {},
   "outputs": [],
   "source": [
    "from gtts import gTTS\n",
    "\n",
    "idioma = input(\"Escolha o idioma do texto - English (en), Português (pt) ou Espanhol (es): \")\n",
    "\n",
    "if idioma == 'es':\n",
    "    texto = input('Ingresa tu texto: ')\n",
    "\n",
    "    gtts_object = gTTS(text = texto, lang = \"es\",slow = False)\n",
    "\n",
    "    gtts_object.save(\"audio.wav\")\n",
    "elif idioma == 'en':\n",
    "    texto = input('Enter your text: ')\n",
    "\n",
    "    gtts_object = gTTS(text = texto, lang = \"en\",slow = False)\n",
    "\n",
    "    gtts_object.save(\"audio.wav\")\n",
    "elif idioma == 'pt':\n",
    "    texto = input('Digite seu texto: ')\n",
    "\n",
    "    gtts_object = gTTS(text = texto, lang = \"pt\", tld='com.br',slow = False)\n",
    "\n",
    "    gtts_object.save(\"audio.wav\")\n",
    "else:\n",
    "    print(\"Idioma inválido, tente novamente.\")\n",
    "    exit()\n",
    "    "
   ]
  }
 ],
 "metadata": {
  "kernelspec": {
   "display_name": "base",
   "language": "python",
   "name": "python3"
  },
  "language_info": {
   "codemirror_mode": {
    "name": "ipython",
    "version": 3
   },
   "file_extension": ".py",
   "mimetype": "text/x-python",
   "name": "python",
   "nbconvert_exporter": "python",
   "pygments_lexer": "ipython3",
   "version": "3.11.5"
  }
 },
 "nbformat": 4,
 "nbformat_minor": 2
}
