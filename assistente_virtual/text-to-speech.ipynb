{
 "cells": [
  {
   "cell_type": "code",
   "execution_count": null,
   "metadata": {},
   "outputs": [],
   "source": [
    "# !pip install setuptools wheel\n",
    "!pip install playsound\n",
    "# !pip install pyjokes\n",
    "# !pip install webbrowser\n",
    "# !pip install winshell\n",
    "# !pip install pygame\n",
    "# !pip install SpeechRecognition\n",
    "# !pip install wikipedia"
   ]
  },
  {
   "cell_type": "code",
   "execution_count": null,
   "metadata": {},
   "outputs": [],
   "source": [
    "!pip install wikipedia"
   ]
  },
  {
   "cell_type": "code",
   "execution_count": 7,
   "metadata": {},
   "outputs": [
    {
     "ename": "ModuleNotFoundError",
     "evalue": "No module named 'playsound'",
     "output_type": "error",
     "traceback": [
      "\u001b[1;31m---------------------------------------------------------------------------\u001b[0m",
      "\u001b[1;31mModuleNotFoundError\u001b[0m                       Traceback (most recent call last)",
      "Cell \u001b[1;32mIn[7], line 6\u001b[0m\n\u001b[0;32m      4\u001b[0m \u001b[38;5;28;01mimport\u001b[39;00m \u001b[38;5;21;01mos\u001b[39;00m\n\u001b[0;32m      5\u001b[0m \u001b[38;5;28;01mfrom\u001b[39;00m \u001b[38;5;21;01mdatetime\u001b[39;00m \u001b[38;5;28;01mimport\u001b[39;00m datetime\n\u001b[1;32m----> 6\u001b[0m \u001b[38;5;28;01mimport\u001b[39;00m \u001b[38;5;21;01mplaysound\u001b[39;00m\n\u001b[0;32m      7\u001b[0m \u001b[38;5;28;01mimport\u001b[39;00m \u001b[38;5;21;01mpyjokes\u001b[39;00m\n\u001b[0;32m      8\u001b[0m \u001b[38;5;28;01mimport\u001b[39;00m \u001b[38;5;21;01mwikipedia\u001b[39;00m\n",
      "\u001b[1;31mModuleNotFoundError\u001b[0m: No module named 'playsound'"
     ]
    }
   ],
   "source": [
    "#import section\n",
    "import speech_recognition as sr\n",
    "from gtts import gTTS\n",
    "import os\n",
    "from datetime import datetime\n",
    "import playsound\n",
    "import pyjokes\n",
    "import wikipedia\n",
    "import pyaudio\n",
    "import webbrowser\n",
    "import winshell\n",
    "from pygame import mixer\n",
    "\n",
    "\n",
    "#get mic audio\n",
    "def get_audio():\n",
    "    r = sr.Recognizer()\n",
    "    with sr.Microphone() as source:\n",
    "        r.pause_threshold = 1\n",
    "        r.adjust_for_ambient_noise(source, duration=1)\n",
    "        audio = r.listen(source)\n",
    "        said = \"\"\n",
    "        try:\n",
    "            said = r.recognize_google(audio)\n",
    "            print(said)\n",
    "        except sr.UnknownValueError:\n",
    "            speak(\"Sorry, I did not get that.\")\n",
    "        except sr.RequestError:\n",
    "            speak(\"Sorry, the service is not available\")\n",
    "    return said.lower()\n",
    "\n",
    "#speak converted audio to text\n",
    "def speak(text):\n",
    "    tts = gTTS(text=text, lang='pt', tld='com.br')\n",
    "    filename = \"voice.mp3\"\n",
    "    try:\n",
    "        os.remove(filename)\n",
    "    except OSError:\n",
    "        pass\n",
    "    tts.save(filename)\n",
    "    playsound.playsound(filename)\n",
    "\n",
    "#function to respond to commands\n",
    "def respond(text):\n",
    "    print(\"Text from get audio \" + text)\n",
    "    if 'youtube' in text:\n",
    "        speak(\"O que você quer buscar no youtube?\")\n",
    "        keyword = get_audio()\n",
    "        if keyword!= '':\n",
    "            url = f\"https://www.youtube.com/results?search_query={keyword}\"\n",
    "            webbrowser.get().open(url)\n",
    "            speak(f\"Isso foi o que eu encontrei sobre {keyword} no youtube\")\n",
    "    elif 'search' in text:\n",
    "        speak(\"Você quer saber sobre o que?\")\n",
    "        query = get_audio()\n",
    "        if query !='':\n",
    "            result = wikipedia.summary(query, sentences=3)\n",
    "            speak(\"According to wikipedia\")\n",
    "            print(result)\n",
    "            speak(result)\n",
    "    elif 'joke' in text:\n",
    "        speak(pyjokes.get_joke())\n",
    "    elif 'empty recycle bin' in text:\n",
    "        winshell.recycle_bin().empty(confirm=False, show_progress=False, sound=True)\n",
    "        speak(\"Recycle bin emptied\")\n",
    "    elif 'what time' in text:\n",
    "        strTime = datetime.today().strftime(\"%H:%M %p\")\n",
    "        print(strTime)\n",
    "        speak(strTime)\n",
    "    elif 'exit' in text:\n",
    "        speak(\"Goodbye, till next time\")\n",
    "        exit()\n",
    "#play music\n",
    "def playmusic(song):\n",
    "    mixer.init()\n",
    "    mixer.music.load(song)\n",
    "    mixer.music.play()\n",
    "#stop music\n",
    "def stopmusic():\n",
    "    mixer.music.stop()\n",
    "\n",
    "#let's try it\n",
    "#text = get_audio()\n",
    "#speak(text)\n",
    "while True:\n",
    "    print(\"I am listening...\")\n",
    "    text = get_audio()\n",
    "    respond(text)"
   ]
  }
 ],
 "metadata": {
  "kernelspec": {
   "display_name": "base",
   "language": "python",
   "name": "python3"
  },
  "language_info": {
   "codemirror_mode": {
    "name": "ipython",
    "version": 3
   },
   "file_extension": ".py",
   "mimetype": "text/x-python",
   "name": "python",
   "nbconvert_exporter": "python",
   "pygments_lexer": "ipython3",
   "version": "3.11.5"
  }
 },
 "nbformat": 4,
 "nbformat_minor": 2
}
